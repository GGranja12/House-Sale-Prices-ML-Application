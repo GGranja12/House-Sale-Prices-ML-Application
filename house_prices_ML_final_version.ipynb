{
 "cells": [
  {
   "cell_type": "markdown",
   "metadata": {
    "id": "OM08SpHSofKM"
   },
   "source": [
    "# Seattle Housing Project"
   ]
  },
  {
   "cell_type": "markdown",
   "metadata": {
    "id": "W-FvceTNrn_e"
   },
   "source": [
    "## Importing Libraries"
   ]
  },
  {
   "cell_type": "code",
   "execution_count": null,
   "metadata": {
    "id": "FH15cCVW7_c-"
   },
   "outputs": [],
   "source": [
    "import pandas as pd\n",
    "import numpy as np\n",
    "\n",
    "from datetime import datetime\n",
    "\n",
    "import matplotlib.pyplot as plt\n",
    "import seaborn as sns"
   ]
  },
  {
   "cell_type": "markdown",
   "metadata": {
    "id": "R_ezbkTmrv4q"
   },
   "source": [
    "## Overview and Preprocessing of Dataset"
   ]
  },
  {
   "cell_type": "code",
   "execution_count": null,
   "metadata": {
    "id": "ZHJrdNJDAKRG"
   },
   "outputs": [],
   "source": [
    "df = pd.read_csv(\"king_ country_ houses_aa.csv\")"
   ]
  },
  {
   "cell_type": "code",
   "execution_count": null,
   "metadata": {
    "colab": {
     "base_uri": "https://localhost:8080/",
     "height": 256
    },
    "id": "kZwVSfxIANYa",
    "outputId": "18afd876-98cf-4486-89c6-9c95285d4e02"
   },
   "outputs": [],
   "source": [
    "df.head()"
   ]
  },
  {
   "cell_type": "code",
   "execution_count": null,
   "metadata": {
    "colab": {
     "base_uri": "https://localhost:8080/",
     "height": 256
    },
    "id": "fIDTSr-R-1ev",
    "outputId": "9d2a23a2-2529-4a8b-e3c3-ad2ce0060446"
   },
   "outputs": [],
   "source": [
    "# move target to the right\n",
    "column_data = df.pop(\"price\")\n",
    "df[\"price\"] = column_data\n",
    "df.head()"
   ]
  },
  {
   "cell_type": "code",
   "execution_count": null,
   "metadata": {
    "colab": {
     "base_uri": "https://localhost:8080/"
    },
    "id": "oo4CkILx-8CI",
    "outputId": "f5250959-9e6c-4dad-c757-9f8ab90de5d0"
   },
   "outputs": [],
   "source": [
    "df.shape"
   ]
  },
  {
   "cell_type": "code",
   "execution_count": null,
   "metadata": {
    "id": "W-1gXo3a-70Y"
   },
   "outputs": [],
   "source": [
    "# there are no nans\n",
    "#df.isna().sum()"
   ]
  },
  {
   "cell_type": "code",
   "execution_count": null,
   "metadata": {
    "id": "t8vnDCo--7nv"
   },
   "outputs": [],
   "source": [
    "# there are no duplicates\n",
    "#df.duplicated().sum()"
   ]
  },
  {
   "cell_type": "code",
   "execution_count": null,
   "metadata": {
    "id": "WscxYIZ-Z9fK"
   },
   "outputs": [],
   "source": [
    "#df.eq(\" \").sum()"
   ]
  },
  {
   "cell_type": "code",
   "execution_count": null,
   "metadata": {
    "colab": {
     "base_uri": "https://localhost:8080/",
     "height": 743
    },
    "id": "ZqNIfGd1_D8W",
    "outputId": "b245c370-5d6b-468b-8713-285d1f19f9be"
   },
   "outputs": [],
   "source": [
    "df.dtypes"
   ]
  },
  {
   "cell_type": "code",
   "execution_count": null,
   "metadata": {
    "id": "6YsK3KHN-6nw"
   },
   "outputs": [],
   "source": [
    "# convert date feature to datetime\n",
    "df[\"date\"] = pd.to_datetime(df[\"date\"])"
   ]
  },
  {
   "cell_type": "code",
   "execution_count": null,
   "metadata": {
    "colab": {
     "base_uri": "https://localhost:8080/",
     "height": 342
    },
    "id": "Idv0uew5-5Re",
    "outputId": "27de7efe-c302-4c07-e047-06bf9cca0382"
   },
   "outputs": [],
   "source": [
    "df.head()"
   ]
  },
  {
   "cell_type": "code",
   "execution_count": null,
   "metadata": {
    "id": "DBeLPRnVOzsQ"
   },
   "outputs": [],
   "source": [
    "df.describe().T"
   ]
  },
  {
   "cell_type": "markdown",
   "metadata": {
    "id": "DSyXZktxr7Vg"
   },
   "source": [
    "## Visualize the Data"
   ]
  },
  {
   "cell_type": "code",
   "execution_count": null,
   "metadata": {
    "colab": {
     "base_uri": "https://localhost:8080/",
     "height": 1000
    },
    "id": "JyJ3u0rS_Hcq",
    "outputId": "59415ca4-dcf8-44b9-9637-0eebccdbb825"
   },
   "outputs": [],
   "source": [
    "color = '#B7410E'\n",
    "\n",
    "# grid size\n",
    "nrows, ncols = 6, 4  # adjust for your number of features\n",
    "\n",
    "fig, axes = plt.subplots(nrows=nrows, ncols=ncols, figsize=(20, 16))\n",
    "\n",
    "axes = axes.flatten()\n",
    "\n",
    "# Plot each numerical feature\n",
    "for i, ax in enumerate(axes):\n",
    "    if i >= len(df.columns):\n",
    "        ax.set_visible(False)  # hide unesed plots\n",
    "        continue\n",
    "    ax.hist(df.iloc[:, i], bins=30, color=color, edgecolor='black')\n",
    "    ax.set_title(df.columns[i], fontsize=20)\n",
    "\n",
    "plt.tight_layout()\n",
    "plt.show()"
   ]
  },
  {
   "cell_type": "markdown",
   "metadata": {
    "id": "AKC-hmaBSS3U"
   },
   "source": [
    "#### First impression from histograms:\n",
    "\n",
    "Uniform distributions (drop):\n",
    "\n",
    "- id\n",
    "- date\n",
    "\n",
    "No inferential power (drop):\n",
    "\n",
    "- yr_renovated\n",
    "- sqft_lot 15\n",
    "\n",
    "Geographical data (drop):\n",
    "\n",
    "- zipcode\n",
    "- lat\n",
    "- long\n",
    "\n",
    "Categoricals (drop?):\n",
    "\n",
    "- bathrooms\n",
    "- floors\n",
    "- waterfront\n",
    "- view\n",
    "- condition\n",
    "- grade\n",
    "\n",
    "\n",
    "Variables to consider in the model (apply standarzation or normalization):\n",
    "\n",
    "- bedrooms\n",
    "- sqft_living\n",
    "- sqft_above\n",
    "- yr_built\n",
    "- sqft_living15\n",
    "\n",
    "Drop first and add later?:\n",
    "\n",
    "- sqft_lot -  check for outliers\n",
    "- sqft_basement - try normalization"
   ]
  },
  {
   "cell_type": "code",
   "execution_count": null,
   "metadata": {
    "colab": {
     "base_uri": "https://localhost:8080/",
     "height": 1000
    },
    "id": "Oxr5rwR2T9Gg",
    "outputId": "9f1066c9-1e87-4069-b544-818f465336f5"
   },
   "outputs": [],
   "source": [
    "color = '#B7410E'\n",
    "\n",
    "# grid size\n",
    "nrows, ncols = 5, 4\n",
    "\n",
    "#Excluding date to present boxplots\n",
    "\n",
    "df_boxplot = df.drop(columns={\"date\"})\n",
    "\n",
    "fig, axes = plt.subplots(nrows=nrows, ncols=ncols, figsize=(20, 16))\n",
    "\n",
    "axes = axes.flatten()\n",
    "\n",
    "for i, ax in enumerate(axes):\n",
    "    if i >= len(df_boxplot.columns):\n",
    "        ax.set_visible(False)\n",
    "        continue\n",
    "    ax.boxplot(df_boxplot.iloc[:, i].dropna(), vert=False, patch_artist=True,\n",
    "               boxprops=dict(facecolor=color, color='black'),\n",
    "               medianprops=dict(color='yellow'), whiskerprops=dict(color='black'),\n",
    "               capprops=dict(color='black'), flierprops=dict(marker='o', color='red', markersize=5))\n",
    "    ax.set_title(df_boxplot.columns[i], fontsize=10)\n",
    "    ax.tick_params(axis='x', labelsize=8)\n",
    "\n",
    "plt.tight_layout()\n",
    "plt.show()"
   ]
  },
  {
   "cell_type": "code",
   "execution_count": null,
   "metadata": {
    "colab": {
     "base_uri": "https://localhost:8080/",
     "height": 1000
    },
    "id": "gDw2aZcEsJK3",
    "outputId": "a7aa1f5e-cf11-4e55-cbac-2b19431db592"
   },
   "outputs": [],
   "source": [
    "correlation_matrix = df.corr()\n",
    "mask = np.zeros_like(correlation_matrix)\n",
    "mask[np.triu_indices_from(mask)] = True\n",
    "f, ax = plt.subplots(figsize=(25, 15))\n",
    "sns.set(font_scale=1.5)\n",
    "ax = sns.heatmap(correlation_matrix, mask=mask, annot=True, annot_kws={\"size\": 17}, linewidths=.5, cmap=\"coolwarm\", fmt=\".2f\", ax=ax)\n",
    "ax.set_title(\"Checking for Correlations\", fontsize=30)\n",
    "plt.show()"
   ]
  },
  {
   "cell_type": "code",
   "execution_count": null,
   "metadata": {
    "id": "oukJ0S16T9Gg"
   },
   "outputs": [],
   "source": [
    "df1 = df[[\"bedrooms\", \"sqft_living\", \"sqft_above\", \"yr_built\", \"sqft_living15\", \"grade\", \"price\"]]"
   ]
  },
  {
   "cell_type": "code",
   "execution_count": null,
   "metadata": {
    "colab": {
     "base_uri": "https://localhost:8080/",
     "height": 304
    },
    "id": "KJ4bcGBeY0rW",
    "outputId": "e4227c13-98f9-4e15-9983-8c21e475d6fb"
   },
   "outputs": [],
   "source": [
    "df1.corrwith(df1[\"price\"]).sort_values(ascending=False) #checking correlations with the target"
   ]
  },
  {
   "cell_type": "code",
   "execution_count": null,
   "metadata": {
    "colab": {
     "base_uri": "https://localhost:8080/",
     "height": 1000
    },
    "id": "5NAf7NC9_H79",
    "outputId": "23b77a93-28e6-41e9-d0c2-af3906ac2060"
   },
   "outputs": [],
   "source": [
    "correlation_matrix = df1.corr()\n",
    "mask = np.zeros_like(correlation_matrix)\n",
    "mask[np.triu_indices_from(mask)] = True\n",
    "f, ax = plt.subplots(figsize=(25, 15))\n",
    "sns.set(font_scale=1.5)\n",
    "ax = sns.heatmap(correlation_matrix, mask=mask, annot=True, annot_kws={\"size\": 17}, linewidths=.5, cmap=\"coolwarm\", fmt=\".2f\", ax=ax)\n",
    "ax.set_title(\"Checking for Multicollinearity\", fontsize=30)\n",
    "plt.show()"
   ]
  },
  {
   "cell_type": "markdown",
   "metadata": {
    "id": "FArFjQ5kT9Gg"
   },
   "source": [
    "### Checking Multicollinearity:\n",
    "\n",
    "1. Try going on with all features.\n",
    "2. Drop some features based on Multicollinearity and test the metrics\n",
    "\n",
    "Drop?:\n",
    "- sqft_above\n",
    "- sqft_living15\n",
    "- grade\n",
    "\n",
    "We decided not to drop given that we would end up with just a few features and would make no sense to continue."
   ]
  },
  {
   "cell_type": "code",
   "execution_count": null,
   "metadata": {
    "id": "khYp6J6ET9Gg"
   },
   "outputs": [],
   "source": [
    "df[\"date\"] = df[\"date\"].apply(lambda x: datetime.toordinal(x))"
   ]
  },
  {
   "cell_type": "code",
   "execution_count": null,
   "metadata": {
    "id": "D3u5gUYv_ILb"
   },
   "outputs": [],
   "source": [
    "#Creating a duplicate df to keep the original\n",
    "housing_new_df = df.copy()"
   ]
  },
  {
   "cell_type": "code",
   "execution_count": null,
   "metadata": {
    "id": "MI0GLykTX9SD"
   },
   "outputs": [],
   "source": [
    "X= housing_new_df.drop(columns= \"price\")\n",
    "y= housing_new_df[\"price\"]"
   ]
  },
  {
   "cell_type": "code",
   "execution_count": null,
   "metadata": {
    "id": "JifgizNoT9Gg"
   },
   "outputs": [],
   "source": [
    "X1= df1.drop(columns= \"price\")\n",
    "y1= df1[\"price\"]"
   ]
  },
  {
   "cell_type": "code",
   "execution_count": null,
   "metadata": {
    "id": "xuIkUdvfYKfN"
   },
   "outputs": [],
   "source": [
    "from sklearn.model_selection import train_test_split"
   ]
  },
  {
   "cell_type": "code",
   "execution_count": null,
   "metadata": {
    "id": "-Ru3cQgJYQuf"
   },
   "outputs": [],
   "source": [
    "X_train, X_test, y_train, y_test = train_test_split(X, y, test_size=0.3, random_state=42)"
   ]
  },
  {
   "cell_type": "code",
   "execution_count": null,
   "metadata": {
    "id": "PtCp2U6wT9Gg"
   },
   "outputs": [],
   "source": [
    "X1_train, X1_test, y1_train, y1_test = train_test_split(X1, y1, test_size=0.3, random_state=42)"
   ]
  },
  {
   "cell_type": "code",
   "execution_count": null,
   "metadata": {
    "colab": {
     "base_uri": "https://localhost:8080/"
    },
    "id": "Wq211HvnYWLU",
    "outputId": "1cca25d2-7982-4fa6-c887-2ac67abb3910"
   },
   "outputs": [],
   "source": [
    "print(f'100% of our data: {len(housing_new_df)}.')\n",
    "print(f'70% for training data: {len(X_train)}.')\n",
    "print(f'30% for test data: {len(X_test)}.')"
   ]
  },
  {
   "cell_type": "code",
   "execution_count": null,
   "metadata": {
    "colab": {
     "base_uri": "https://localhost:8080/"
    },
    "id": "bG0v4z29T9Gg",
    "outputId": "62817602-89a4-49ab-ddf3-85843a75b5a9"
   },
   "outputs": [],
   "source": [
    "print(f'100% of our data: {len(df1)}.')\n",
    "print(f'70% for training data: {len(X1_train)}.')\n",
    "print(f'30% for test data: {len(X1_test)}.')"
   ]
  },
  {
   "cell_type": "markdown",
   "metadata": {
    "id": "86P7efrZMire"
   },
   "source": [
    "## Normalization, Standardization"
   ]
  },
  {
   "cell_type": "code",
   "execution_count": null,
   "metadata": {
    "id": "v8RRZnTbMm-u"
   },
   "outputs": [],
   "source": [
    "# normalization had no effect\n",
    "\n",
    "\"\"\"\n",
    "from sklearn.preprocessing import MinMaxScaler\n",
    "\n",
    "scaler = MinMaxScaler()\n",
    "X_train_scaled = scaler.fit_transform(X_train)\n",
    "X_test_scaled = scaler.transform(X_test)\n",
    "\"\"\""
   ]
  },
  {
   "cell_type": "code",
   "execution_count": null,
   "metadata": {
    "id": "aBkVUtjdMiJm"
   },
   "outputs": [],
   "source": [
    "# standardization had no effect\n",
    "\n",
    "\"\"\"\n",
    "from sklearn.preprocessing import StandardScaler\n",
    "\n",
    "scaler = StandardScaler()\n",
    "X_train_scaled = scaler.fit_transform(X_train)\n",
    "X_test_scaled = scaler.transform(X_test)\n",
    "\"\"\""
   ]
  },
  {
   "cell_type": "markdown",
   "metadata": {
    "id": "3UCj8Uq2zJeD"
   },
   "source": [
    "## Testing different Models\n",
    "\n",
    "1. Model with all features\n",
    "2. Model with reduced number of features"
   ]
  },
  {
   "cell_type": "code",
   "execution_count": null,
   "metadata": {
    "id": "vhejNhxWT9Gh"
   },
   "outputs": [],
   "source": [
    "from sklearn.linear_model import LinearRegression"
   ]
  },
  {
   "cell_type": "code",
   "execution_count": null,
   "metadata": {
    "colab": {
     "base_uri": "https://localhost:8080/",
     "height": 80
    },
    "id": "vTJogx0wYki-",
    "outputId": "a0c6258c-ba0b-4de2-f242-2a5807492c91"
   },
   "outputs": [],
   "source": [
    "#linear regression\n",
    "\n",
    "model= LinearRegression()\n",
    "model.fit(X_train, y_train)"
   ]
  },
  {
   "cell_type": "code",
   "execution_count": null,
   "metadata": {
    "colab": {
     "base_uri": "https://localhost:8080/",
     "height": 80
    },
    "id": "0oou5nnsT9Gh",
    "outputId": "e73205e8-e8c7-4075-cfd3-835e6341f3d6"
   },
   "outputs": [],
   "source": [
    "#linear regression\n",
    "\n",
    "model1= LinearRegression()\n",
    "model1.fit(X1_train, y1_train)"
   ]
  },
  {
   "cell_type": "code",
   "execution_count": null,
   "metadata": {
    "colab": {
     "base_uri": "https://localhost:8080/"
    },
    "id": "rlNKJLyv9kdt",
    "outputId": "ed1af318-a71b-478e-d34c-07e2133773d8"
   },
   "outputs": [],
   "source": [
    "predictions= model.predict(X_test)\n",
    "predictions"
   ]
  },
  {
   "cell_type": "code",
   "execution_count": null,
   "metadata": {
    "colab": {
     "base_uri": "https://localhost:8080/"
    },
    "id": "4-8t9N01T9Gh",
    "outputId": "7e2b6b19-7181-4678-9046-cf4d39bbf015"
   },
   "outputs": [],
   "source": [
    "predictions1= model1.predict(X1_test)\n",
    "predictions1"
   ]
  },
  {
   "cell_type": "code",
   "execution_count": null,
   "metadata": {
    "id": "FgoQEXjVT9Gh"
   },
   "outputs": [],
   "source": [
    "from sklearn.metrics import r2_score, mean_squared_error, mean_absolute_error"
   ]
  },
  {
   "cell_type": "code",
   "execution_count": null,
   "metadata": {
    "colab": {
     "base_uri": "https://localhost:8080/"
    },
    "id": "HCp2DPhZ9wjX",
    "outputId": "946f2502-2152-41b9-c156-f54cd388325a"
   },
   "outputs": [],
   "source": [
    "r2_linear = r2_score(y_test, predictions)\n",
    "RMSE_linear = mean_squared_error(y_test, predictions, squared=False)\n",
    "MSE_linear = mean_squared_error(y_test, predictions)\n",
    "MAE_linear = mean_absolute_error(y_test, predictions)\n",
    "print(\"R2 = \", round(r2_linear, 4))\n",
    "print(\"RMSE = \", round(RMSE_linear, 4))\n",
    "print(\"MSE =  \", round(MSE_linear, 4))\n",
    "print(\"MAE = \", round(MAE_linear, 4))"
   ]
  },
  {
   "cell_type": "code",
   "execution_count": null,
   "metadata": {
    "colab": {
     "base_uri": "https://localhost:8080/"
    },
    "id": "Q6G-65ccT9Gh",
    "outputId": "1875d986-1e18-4c04-f4c1-4dbd1cd23b57"
   },
   "outputs": [],
   "source": [
    "r2_linear_1 = r2_score(y1_test, predictions1)\n",
    "RMSE_linear_1 = mean_squared_error(y1_test, predictions1, squared=False)\n",
    "MSE_linear_1 = mean_squared_error(y1_test, predictions1)\n",
    "MAE_linear_1 = mean_absolute_error(y1_test, predictions1)\n",
    "print(\"R2 = \", round(r2_linear_1, 4))\n",
    "print(\"RMSE = \", round(RMSE_linear_1, 4))\n",
    "print(\"MSE =  \", round(MSE_linear_1, 4))\n",
    "print(\"MAE = \", round(MAE_linear_1, 4))"
   ]
  },
  {
   "cell_type": "code",
   "execution_count": null,
   "metadata": {
    "colab": {
     "base_uri": "https://localhost:8080/",
     "height": 115
    },
    "id": "7faZ9B1691G0",
    "outputId": "cf0f6b33-fa99-471b-a245-fdca7877529b"
   },
   "outputs": [],
   "source": [
    "#ridge regression\n",
    "from sklearn.linear_model import Ridge\n",
    "ridge = Ridge()\n",
    "ridge.fit(X_train, y_train)"
   ]
  },
  {
   "cell_type": "code",
   "execution_count": null,
   "metadata": {
    "colab": {
     "base_uri": "https://localhost:8080/",
     "height": 80
    },
    "id": "CpVC8uBMT9Gk",
    "outputId": "2491af69-fbf5-483b-ecb7-69095a099947"
   },
   "outputs": [],
   "source": [
    "#ridge regression\n",
    "from sklearn.linear_model import Ridge\n",
    "ridge1 = Ridge()\n",
    "ridge1.fit(X1_train, y1_train)"
   ]
  },
  {
   "cell_type": "code",
   "execution_count": null,
   "metadata": {
    "id": "S9pVEbW9-B8V"
   },
   "outputs": [],
   "source": [
    "predictions_ridge = ridge.predict(X_test)"
   ]
  },
  {
   "cell_type": "code",
   "execution_count": null,
   "metadata": {
    "id": "EK9-tsaYT9Gk"
   },
   "outputs": [],
   "source": [
    "predictions_ridge1 = ridge1.predict(X1_test)"
   ]
  },
  {
   "cell_type": "code",
   "execution_count": null,
   "metadata": {
    "colab": {
     "base_uri": "https://localhost:8080/"
    },
    "id": "D5xUxYko-Fhr",
    "outputId": "8f569243-0252-4d67-9b37-ed5db9d0a0ba"
   },
   "outputs": [],
   "source": [
    "r2_ridge = r2_score(y_test, predictions_ridge)\n",
    "RMSE_ridge = mean_squared_error(y_test, predictions_ridge, squared=False)\n",
    "MSE_ridge = mean_squared_error(y_test, predictions_ridge)\n",
    "MAE_ridge = mean_absolute_error(y_test, predictions_ridge)\n",
    "print(\"R2 = \", round(r2_ridge, 4))\n",
    "print(\"RMSE = \", round(RMSE_ridge, 4))\n",
    "print(\"MSE = \", round(MSE_ridge, 4))\n",
    "print(\"MAE = \", round(MAE_ridge, 4))"
   ]
  },
  {
   "cell_type": "code",
   "execution_count": null,
   "metadata": {
    "colab": {
     "base_uri": "https://localhost:8080/"
    },
    "id": "mEcBeWSeT9Gk",
    "outputId": "1ccd074c-92b8-4f88-a32b-cfe56bd71957"
   },
   "outputs": [],
   "source": [
    "r2_ridge_1 = r2_score(y1_test, predictions_ridge1)\n",
    "RMSE_ridge_1 = mean_squared_error(y1_test, predictions_ridge1, squared=False)\n",
    "MSE_ridge_1 = mean_squared_error(y1_test, predictions_ridge1)\n",
    "MAE_ridge_1 = mean_absolute_error(y1_test, predictions_ridge1)\n",
    "print(\"R2 = \", round(r2_ridge_1, 4))\n",
    "print(\"RMSE = \", round(RMSE_ridge_1, 4))\n",
    "print(\"MSE = \", round(MSE_ridge_1, 4))\n",
    "print(\"MAE = \", round(MAE_ridge_1, 4))"
   ]
  },
  {
   "cell_type": "code",
   "execution_count": null,
   "metadata": {
    "colab": {
     "base_uri": "https://localhost:8080/",
     "height": 135
    },
    "id": "KVn062Sn-Lzb",
    "outputId": "b4ee2e1b-6f71-41e5-b149-533872984699"
   },
   "outputs": [],
   "source": [
    "#Lasso regression\n",
    "from sklearn.linear_model import Lasso\n",
    "lasso = Lasso()\n",
    "lasso.fit(X_train, y_train)"
   ]
  },
  {
   "cell_type": "code",
   "execution_count": null,
   "metadata": {
    "colab": {
     "base_uri": "https://localhost:8080/",
     "height": 80
    },
    "id": "HzoQ7z2LT9Gk",
    "outputId": "99bd6360-d8d0-4e00-b646-8ca0ae4433fe"
   },
   "outputs": [],
   "source": [
    "#Lasso regression\n",
    "from sklearn.linear_model import Lasso\n",
    "lasso1 = Lasso()\n",
    "lasso1.fit(X1_train, y1_train)"
   ]
  },
  {
   "cell_type": "code",
   "execution_count": null,
   "metadata": {
    "id": "Jq91iHHw-ZaP"
   },
   "outputs": [],
   "source": [
    "predictions_lasso = lasso.predict(X_test)"
   ]
  },
  {
   "cell_type": "code",
   "execution_count": null,
   "metadata": {
    "id": "NJGFpN1rT9Gk"
   },
   "outputs": [],
   "source": [
    "predictions_lasso1 = lasso1.predict(X1_test)"
   ]
  },
  {
   "cell_type": "code",
   "execution_count": null,
   "metadata": {
    "colab": {
     "base_uri": "https://localhost:8080/"
    },
    "id": "gpszqH7m-ctI",
    "outputId": "8b2a6af7-4eff-422e-8cf3-dcb2da32439d"
   },
   "outputs": [],
   "source": [
    "r2_lasso = r2_score(y_test, predictions_lasso)\n",
    "RMSE_lasso = mean_squared_error(y_test, predictions_lasso, squared=False)\n",
    "MSE_lasso = mean_squared_error(y_test, predictions_lasso)\n",
    "MAE_lasso = mean_absolute_error(y_test, predictions_lasso)\n",
    "print(\"R2 = \", round(r2_lasso, 4))\n",
    "print(\"RMSE = \", round(RMSE_lasso, 4))\n",
    "print(\"MSE = \", round(MSE_lasso, 4))\n",
    "print(\"MAE = \", round(MAE_lasso, 4))"
   ]
  },
  {
   "cell_type": "code",
   "execution_count": null,
   "metadata": {
    "colab": {
     "base_uri": "https://localhost:8080/"
    },
    "id": "HPbJc-X3T9Gl",
    "outputId": "bfc4efd4-74f3-4289-d5dc-016021c28161"
   },
   "outputs": [],
   "source": [
    "r2_lasso_1 = r2_score(y1_test, predictions_lasso1)\n",
    "RMSE_lasso_1 = mean_squared_error(y1_test, predictions_lasso1, squared=False)\n",
    "MSE_lasso_1 = mean_squared_error(y1_test, predictions_lasso1)\n",
    "MAE_lasso_1 = mean_absolute_error(y1_test, predictions_lasso1)\n",
    "print(\"R2 = \", round(r2_lasso_1, 4))\n",
    "print(\"RMSE = \", round(RMSE_lasso_1, 4))\n",
    "print(\"MSE = \", round(MSE_lasso_1, 4))\n",
    "print(\"MAE = \", round(MAE_lasso_1, 4))"
   ]
  },
  {
   "cell_type": "code",
   "execution_count": null,
   "metadata": {
    "colab": {
     "base_uri": "https://localhost:8080/",
     "height": 80
    },
    "id": "SP2Xl6f3-ilS",
    "outputId": "ae88a88e-7595-416e-eadf-b02641426bab"
   },
   "outputs": [],
   "source": [
    "#decision tree regression\n",
    "from sklearn.tree import DecisionTreeRegressor\n",
    "tree = DecisionTreeRegressor()\n",
    "tree.fit(X_train, y_train)"
   ]
  },
  {
   "cell_type": "code",
   "execution_count": null,
   "metadata": {
    "colab": {
     "base_uri": "https://localhost:8080/",
     "height": 80
    },
    "id": "JbCiL6ZkT9Gl",
    "outputId": "6831179c-324d-4236-d0df-2f1996c3372e"
   },
   "outputs": [],
   "source": [
    "#decision tree regression\n",
    "from sklearn.tree import DecisionTreeRegressor\n",
    "tree1 = DecisionTreeRegressor()\n",
    "tree1.fit(X1_train, y1_train)"
   ]
  },
  {
   "cell_type": "code",
   "execution_count": null,
   "metadata": {
    "id": "Jbj3vUG5-sp_"
   },
   "outputs": [],
   "source": [
    "predictions_tree = tree.predict(X_test)"
   ]
  },
  {
   "cell_type": "code",
   "execution_count": null,
   "metadata": {
    "id": "mnRYTLG1T9Gl"
   },
   "outputs": [],
   "source": [
    "predictions_tree1 = tree1.predict(X1_test)"
   ]
  },
  {
   "cell_type": "code",
   "execution_count": null,
   "metadata": {
    "colab": {
     "base_uri": "https://localhost:8080/"
    },
    "id": "b2qkbWKQ-u4f",
    "outputId": "b4af8736-2d3a-4041-9df4-126d7b3af1ea"
   },
   "outputs": [],
   "source": [
    "r2_tree = r2_score(y_test, predictions_tree)\n",
    "RMSE_tree = mean_squared_error(y_test, predictions_tree, squared=False)\n",
    "MSE_tree = mean_squared_error(y_test, predictions_tree)\n",
    "MAE_tree = mean_absolute_error(y_test, predictions_tree)\n",
    "print(\"R2 = \", round(r2_tree, 4))\n",
    "print(\"RMSE = \", round(RMSE_tree, 4))\n",
    "print(\"MSE = \", round(MSE_tree, 4))\n",
    "print(\"MAE = \", round(MAE_tree, 4))"
   ]
  },
  {
   "cell_type": "code",
   "execution_count": null,
   "metadata": {
    "colab": {
     "base_uri": "https://localhost:8080/"
    },
    "id": "w_BJO0w8T9Gl",
    "outputId": "cf127bbe-87fd-4cf0-e050-1dd89a85db80"
   },
   "outputs": [],
   "source": [
    "r2_tree_1 = r2_score(y1_test, predictions_tree1)\n",
    "RMSE_tree_1 = mean_squared_error(y1_test, predictions_tree1, squared=False)\n",
    "MSE_tree_1 = mean_squared_error(y1_test, predictions_tree1)\n",
    "MAE_tree_1 = mean_absolute_error(y1_test, predictions_tree1)\n",
    "print(\"R2 = \", round(r2_tree_1, 4))\n",
    "print(\"RMSE = \", round(RMSE_tree_1, 4))\n",
    "print(\"MSE = \", round(MSE_tree_1, 4))\n",
    "print(\"MAE = \", round(MAE_tree_1, 4))"
   ]
  },
  {
   "cell_type": "code",
   "execution_count": null,
   "metadata": {
    "colab": {
     "base_uri": "https://localhost:8080/",
     "height": 80
    },
    "id": "rMOZI-Xx-yUL",
    "outputId": "d5518da2-b28a-46a7-859b-50a49129d30a"
   },
   "outputs": [],
   "source": [
    "#KNN regression\n",
    "from sklearn.neighbors import KNeighborsRegressor\n",
    "knn = KNeighborsRegressor()\n",
    "knn.fit(X_train, y_train)"
   ]
  },
  {
   "cell_type": "code",
   "execution_count": null,
   "metadata": {
    "colab": {
     "base_uri": "https://localhost:8080/",
     "height": 80
    },
    "id": "MYdzQLbHT9Gl",
    "outputId": "be02e2c8-8f4b-46a8-a7fd-6785518ce462"
   },
   "outputs": [],
   "source": [
    "#KNN regression\n",
    "from sklearn.neighbors import KNeighborsRegressor\n",
    "knn1 = KNeighborsRegressor()\n",
    "knn1.fit(X1_train, y1_train)"
   ]
  },
  {
   "cell_type": "code",
   "execution_count": null,
   "metadata": {
    "id": "blkSILCa-9vI"
   },
   "outputs": [],
   "source": [
    "predictions_knn = knn.predict(X_test)"
   ]
  },
  {
   "cell_type": "code",
   "execution_count": null,
   "metadata": {
    "id": "o2OnCQ0rT9Gl"
   },
   "outputs": [],
   "source": [
    "predictions_knn1 = knn1.predict(X1_test)"
   ]
  },
  {
   "cell_type": "code",
   "execution_count": null,
   "metadata": {
    "colab": {
     "base_uri": "https://localhost:8080/"
    },
    "id": "_9sp-O5U_Bbz",
    "outputId": "0bae56ba-884c-4a77-c903-1092b3a33d0d"
   },
   "outputs": [],
   "source": [
    "r2_knn = r2_score(y_test, predictions_knn)\n",
    "RMSE_knn = mean_squared_error(y_test, predictions_knn, squared=False)\n",
    "MSE_knn = mean_squared_error(y_test, predictions_knn)\n",
    "MAE_knn = mean_absolute_error(y_test, predictions_knn)\n",
    "print(\"R2 = \", round(r2_knn, 4))\n",
    "print(\"RMSE = \", round(RMSE_knn, 4))\n",
    "print(\"MSE = \", round(MSE_knn, 4))\n",
    "print(\"MAE = \", round(MAE_knn, 4))"
   ]
  },
  {
   "cell_type": "code",
   "execution_count": null,
   "metadata": {
    "colab": {
     "base_uri": "https://localhost:8080/"
    },
    "id": "PuF4VQHsT9Gl",
    "outputId": "4a933a6b-56e8-4f06-da61-42ce6c03bba0"
   },
   "outputs": [],
   "source": [
    "r2_knn_1 = r2_score(y1_test, predictions_knn1)\n",
    "RMSE_knn_1 = mean_squared_error(y1_test, predictions_knn1, squared=False)\n",
    "MSE_knn_1 = mean_squared_error(y1_test, predictions_knn1)\n",
    "MAE_knn_1 = mean_absolute_error(y1_test, predictions_knn1)\n",
    "print(\"R2 = \", round(r2_knn_1, 4))\n",
    "print(\"RMSE = \", round(RMSE_knn_1, 4))\n",
    "print(\"MSE = \", round(MSE_knn_1, 4))\n",
    "print(\"MAE = \", round(MAE_knn_1, 4))"
   ]
  },
  {
   "cell_type": "code",
   "execution_count": null,
   "metadata": {
    "colab": {
     "base_uri": "https://localhost:8080/",
     "height": 257
    },
    "id": "61hLvH_j_FTi",
    "outputId": "724dbd49-6232-4b93-9cd7-f42b99510017"
   },
   "outputs": [],
   "source": [
    "#xgboost regression\n",
    "import xgboost as xgb\n",
    "xgbr = xgb.XGBRFRegressor()\n",
    "xgbr.fit(X_train, y_train)"
   ]
  },
  {
   "cell_type": "code",
   "execution_count": null,
   "metadata": {
    "colab": {
     "base_uri": "https://localhost:8080/",
     "height": 257
    },
    "id": "fuLN8T_yT9Gl",
    "outputId": "d32657eb-93f2-4c55-ef4d-e2a28c0ea49d"
   },
   "outputs": [],
   "source": [
    "#xgboost regression\n",
    "import xgboost as xgb\n",
    "xgbr1 = xgb.XGBRFRegressor()\n",
    "xgbr1.fit(X1_train, y1_train)"
   ]
  },
  {
   "cell_type": "code",
   "execution_count": null,
   "metadata": {
    "id": "ZvlDAbdj_L5k"
   },
   "outputs": [],
   "source": [
    "predictions_xgb = xgbr.predict(X_test)"
   ]
  },
  {
   "cell_type": "code",
   "execution_count": null,
   "metadata": {
    "id": "rRpbmuITT9Gm"
   },
   "outputs": [],
   "source": [
    "predictions_xgb1 = xgbr1.predict(X1_test)"
   ]
  },
  {
   "cell_type": "code",
   "execution_count": null,
   "metadata": {
    "colab": {
     "base_uri": "https://localhost:8080/"
    },
    "id": "8mX1Rkee_N3x",
    "outputId": "8b04de32-140c-4e41-a040-cd2161832b14"
   },
   "outputs": [],
   "source": [
    "r2_boost = r2_score(y_test, predictions_xgb)\n",
    "RMSE_boost = mean_squared_error(y_test, predictions_xgb, squared=False)\n",
    "MSE_boost = mean_squared_error(y_test, predictions_xgb)\n",
    "MAE_boost = mean_absolute_error(y_test, predictions_xgb)\n",
    "print(\"R2 = \", round(r2_boost, 4))\n",
    "print(\"RMSE = \", round(RMSE_boost, 4))\n",
    "print(\"MSE = \", round(MSE_boost, 4))\n",
    "print(\"MAE = \", round(MAE_boost, 4))"
   ]
  },
  {
   "cell_type": "code",
   "execution_count": null,
   "metadata": {
    "colab": {
     "base_uri": "https://localhost:8080/"
    },
    "id": "rQYNoIMQT9Gm",
    "outputId": "8499df19-765a-4c4c-cec0-2a0ee6dd7e2b"
   },
   "outputs": [],
   "source": [
    "r2_boost_1 = r2_score(y1_test, predictions_xgb1)\n",
    "RMSE_boost_1 = mean_squared_error(y1_test, predictions_xgb1, squared=False)\n",
    "MSE_boost_1 = mean_squared_error(y1_test, predictions_xgb1)\n",
    "MAE_boost_1 = mean_absolute_error(y1_test, predictions_xgb1)\n",
    "print(\"R2 = \", round(r2_boost_1, 4))\n",
    "print(\"RMSE = \", round(RMSE_boost_1, 4))\n",
    "print(\"MSE= \", round(MSE_boost_1, 4))\n",
    "print(\"MAE = \", round(MAE_boost_1, 4))"
   ]
  },
  {
   "cell_type": "markdown",
   "metadata": {
    "id": "E3IN9CbKrv1D"
   },
   "source": [
    "## Linear Model Tuning"
   ]
  },
  {
   "cell_type": "markdown",
   "metadata": {},
   "source": [
    "Dealing with multicollinearity and outliers within the Linear Regression Model"
   ]
  },
  {
   "cell_type": "code",
   "execution_count": null,
   "metadata": {},
   "outputs": [],
   "source": [
    "df2 = df.copy()"
   ]
  },
  {
   "cell_type": "code",
   "execution_count": null,
   "metadata": {
    "id": "ab2x5eXnr7ec"
   },
   "outputs": [],
   "source": [
    "df2.columns"
   ]
  },
  {
   "cell_type": "code",
   "execution_count": null,
   "metadata": {},
   "outputs": [],
   "source": [
    "df2.drop(columns=[\"sqft_living\",\"sqft_above\",\"id\", \"date\",\"sqft_lot15\",\"yr_renovated\",\"waterfront\",\"view\"],inplace=True)"
   ]
  },
  {
   "cell_type": "code",
   "execution_count": null,
   "metadata": {},
   "outputs": [],
   "source": [
    "#Dealing with outliers\n",
    "\n",
    "def tukeys_test_outliers(data):\n",
    "    Q1 = data.quantile(0.25)\n",
    "    Q3 = data.quantile(0.75)\n",
    "    IQR = Q3 - Q1\n",
    "    # Define bounds for the outliers\n",
    "    lower_bound = Q1 - 1.5 * IQR\n",
    "    upper_bound = Q3 + 1.5 * IQR\n",
    "    # Dropping the outliers\n",
    "    data = data[(data > lower_bound) & (data < upper_bound)]\n",
    "    \n",
    "    return data"
   ]
  },
  {
   "cell_type": "code",
   "execution_count": null,
   "metadata": {},
   "outputs": [],
   "source": [
    "df2 = tukeys_test_outliers(df2)"
   ]
  },
  {
   "cell_type": "code",
   "execution_count": null,
   "metadata": {},
   "outputs": [],
   "source": [
    "df2.dropna(inplace=True)"
   ]
  },
  {
   "cell_type": "code",
   "execution_count": null,
   "metadata": {},
   "outputs": [],
   "source": [
    "X2= df2.drop(columns= \"price\")\n",
    "y2= df2[\"price\"]"
   ]
  },
  {
   "cell_type": "code",
   "execution_count": null,
   "metadata": {},
   "outputs": [],
   "source": [
    "X2_train, X2_test, y2_train, y2_test = train_test_split(X2, y2, test_size=0.3, random_state=42)"
   ]
  },
  {
   "cell_type": "code",
   "execution_count": null,
   "metadata": {},
   "outputs": [],
   "source": [
    "from sklearn.linear_model import LinearRegression"
   ]
  },
  {
   "cell_type": "code",
   "execution_count": null,
   "metadata": {},
   "outputs": [],
   "source": [
    "#linear regression\n",
    "\n",
    "model_2= LinearRegression()\n",
    "model_2.fit(X2_train, y2_train)"
   ]
  },
  {
   "cell_type": "code",
   "execution_count": null,
   "metadata": {},
   "outputs": [],
   "source": [
    "predictions2= model_2.predict(X2_test)\n",
    "predictions2"
   ]
  },
  {
   "cell_type": "code",
   "execution_count": null,
   "metadata": {},
   "outputs": [],
   "source": [
    "from sklearn.metrics import r2_score, mean_squared_error, mean_absolute_error"
   ]
  },
  {
   "cell_type": "code",
   "execution_count": null,
   "metadata": {},
   "outputs": [],
   "source": [
    "r2_linear2 = r2_score(y2_test, predictions2)\n",
    "RMSE_linear2 = mean_squared_error(y2_test, predictions2, squared=False)\n",
    "MSE_linear2 = mean_squared_error(y2_test, predictions2)\n",
    "MAE_linear2 = mean_absolute_error(y2_test, predictions2)\n",
    "print(\"R2 = \", round(r2_linear2, 4))\n",
    "print(\"RMSE = \", round(RMSE_linear2, 4))\n",
    "print(\"MSE =  \", round(MSE_linear2, 4))\n",
    "print(\"MAE = \", round(MAE_linear2, 4))"
   ]
  },
  {
   "cell_type": "markdown",
   "metadata": {
    "id": "hNukeIg50saD"
   },
   "source": [
    "## Gridsearch for XGBoost Tuning"
   ]
  },
  {
   "cell_type": "code",
   "execution_count": null,
   "metadata": {
    "id": "bKgvCtdtBZNH"
   },
   "outputs": [],
   "source": [
    "# Gridsearch for XGBoost Tuning"
   ]
  },
  {
   "cell_type": "code",
   "execution_count": null,
   "metadata": {
    "colab": {
     "base_uri": "https://localhost:8080/",
     "height": 254
    },
    "id": "eMolQ_NZBZBr",
    "outputId": "d7eea333-9776-474a-e621-404fb242d1ba"
   },
   "outputs": [],
   "source": [
    "from sklearn.model_selection import GridSearchCV\n",
    "xgbr = xgb.XGBRegressor(objective='reg:squarederror', n_jobs=-1, random_state=42)\n",
    "xgbr.fit(X_train, y_train)"
   ]
  },
  {
   "cell_type": "code",
   "execution_count": null,
   "metadata": {
    "id": "ZXZYvNhLBY15"
   },
   "outputs": [],
   "source": [
    "param_grid = {\n",
    "    \"n_estimators\": [50, 100, 200, 300],\n",
    "    \"max_depth\": [3, 5, 6, 7],\n",
    "    \"learning_rate\": [0.01, 0.1, 0.2, 0.3],\n",
    "    \"colsample_bytree\": [0.3, 0.6, 0.9, 1],\n",
    "    \"gamma\": [0, 0.1, 0.2, 1, 2, 3]\n",
    "}"
   ]
  },
  {
   "cell_type": "code",
   "execution_count": null,
   "metadata": {
    "id": "BXIjQQk4Bu5x"
   },
   "outputs": [],
   "source": [
    "grid_search = GridSearchCV(estimator=xgbr, param_grid=param_grid, scoring=\"r2\", n_jobs=-1, verbose=1)\n",
    "grid_search.fit(X_train, y_train)"
   ]
  },
  {
   "cell_type": "code",
   "execution_count": null,
   "metadata": {
    "colab": {
     "base_uri": "https://localhost:8080/",
     "height": 159
    },
    "id": "lO3AIc0JBulZ",
    "outputId": "b6a30352-2614-4108-e32e-72464e8d08f2"
   },
   "outputs": [],
   "source": [
    "results = pd.DataFrame(grid_search.cv_results_)\n",
    "results"
   ]
  },
  {
   "cell_type": "code",
   "execution_count": null,
   "metadata": {
    "id": "6pnV701rBYnJ"
   },
   "outputs": [],
   "source": [
    "grid_search.best_params_"
   ]
  },
  {
   "cell_type": "code",
   "execution_count": null,
   "metadata": {
    "colab": {
     "base_uri": "https://localhost:8080/"
    },
    "id": "tBhw9i6VBYVL",
    "outputId": "f35eb557-7f2f-4fe6-e681-f76da46d4688"
   },
   "outputs": [],
   "source": [
    "xgbr_best = xgb.XGBRegressor(colsample_bytree=0.3, gamma=0, learning_rate=0.2, max_depth=5, n_estimators=300, random_state=42)\n",
    "xgbr_best.fit(X_train, y_train)\n",
    "\n",
    "predictions_xgb_best = xgbr_best.predict(X_test)\n",
    "\n",
    "r2_boost_best = r2_score(y_test, predictions_xgb_best)\n",
    "RMSE_boost_best = mean_squared_error(y_test, predictions_xgb_best, squared=False)\n",
    "MSE_boost_best = mean_squared_error(y_test, predictions_xgb_best)\n",
    "MAE_boost_best = mean_absolute_error(y_test, predictions_xgb_best)\n",
    "print(\"R2 = \", round(r2_boost_best, 4))\n",
    "print(\"RMSE = \", round(RMSE_boost_best, 4))\n",
    "print(\"MSE = \", round(MSE_boost_best, 4))\n",
    "print(\"MAE = \", round(MAE_boost_best, 4))"
   ]
  },
  {
   "cell_type": "code",
   "execution_count": null,
   "metadata": {
    "id": "vCrkylec_SA_"
   },
   "outputs": [],
   "source": [
    "#final comparision\n",
    "metrics = {\n",
    "    'Model': ['Linear Regression','Linear Regression_clean', 'Linear Regression_tuning', 'Ridge', 'Ridge_clean', 'Lasso', 'Lasso_clean', 'Decision Tree', 'Decision Tree_clean', 'KNN', 'KNN_clean', 'XGBoost', 'XGBoost_clean', 'XGBoost_tuned'],\n",
    "    'R²': [r2_linear, r2_linear_1, r2_linear2, r2_ridge, r2_ridge_1, r2_lasso, r2_lasso_1, r2_tree, r2_tree_1, r2_knn, r2_knn_1, r2_boost, r2_boost_1, r2_boost_best],\n",
    "    'RMSE': [RMSE_linear, RMSE_linear_1, RMSE_linear2, RMSE_ridge, RMSE_ridge_1, RMSE_lasso, RMSE_lasso_1, RMSE_tree, RMSE_tree_1, RMSE_knn, RMSE_knn_1, RMSE_boost, RMSE_boost_1, RMSE_boost_best],\n",
    "    'MSE': [MSE_linear, MSE_linear_1, MSE_linear2, MSE_ridge, MSE_ridge_1, MSE_lasso, MSE_lasso_1, MSE_tree, MSE_tree_1, MSE_knn, MSE_knn_1, MSE_boost, MSE_boost_1, MSE_boost_best],\n",
    "    'MAE': [MAE_linear, MAE_linear_1, MAE_linear2, MAE_ridge, MAE_ridge_1, MAE_lasso, MAE_lasso_1, MAE_tree, MAE_tree_1, MAE_knn, MAE_knn_1, MAE_boost, MAE_boost_1, MAE_boost_best]\n",
    "}"
   ]
  },
  {
   "cell_type": "code",
   "execution_count": null,
   "metadata": {},
   "outputs": [],
   "source": [
    "r2_linear2 = r2_score(y2_test, predictions2)\n",
    "RMSE_linear2 = mean_squared_error(y2_test, predictions2, squared=False)\n",
    "MSE_linear2 = mean_squared_error(y2_test, predictions2)\n",
    "MAE_linear2 = mean_absolute_error(y2_test, predictions2)"
   ]
  },
  {
   "cell_type": "code",
   "execution_count": null,
   "metadata": {
    "colab": {
     "base_uri": "https://localhost:8080/",
     "height": 488
    },
    "id": "FgLXoyuE_a43",
    "outputId": "a2bbba98-19ef-4ce9-8bd3-5bf5e2b6be59"
   },
   "outputs": [],
   "source": [
    "df_metrics = pd.DataFrame(metrics)\n",
    "df_metrics.set_index(\"Model\", inplace=True)\n",
    "df_metrics.round(2)"
   ]
  }
 ],
 "metadata": {
  "colab": {
   "provenance": []
  },
  "kernelspec": {
   "display_name": "base",
   "language": "python",
   "name": "python3"
  },
  "language_info": {
   "codemirror_mode": {
    "name": "ipython",
    "version": 3
   },
   "file_extension": ".py",
   "mimetype": "text/x-python",
   "name": "python",
   "nbconvert_exporter": "python",
   "pygments_lexer": "ipython3",
   "version": "3.12.4"
  }
 },
 "nbformat": 4,
 "nbformat_minor": 0
}
